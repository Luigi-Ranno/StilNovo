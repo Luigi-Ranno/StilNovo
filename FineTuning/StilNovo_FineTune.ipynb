{
 "cells": [
  {
   "metadata": {},
   "cell_type": "markdown",
   "source": "# Model Choice",
   "id": "14c42c4ed4f32e79"
  },
  {
   "metadata": {},
   "cell_type": "markdown",
   "source": [
    "Various options considered given hardware constaints (running on Macbook, 16GB RAM):\n",
    "- Tiny LLaMA\n",
    "- Phi-1.5\n",
    "- Pythia 1.4B\n",
    "- Phi-2 (can possibly tune with QLoRA, but slow)\n",
    "- Zephyr 1.3B\n",
    "- Yi-3B (perhaps, with offload)\n",
    "- Geppetto GP-2\n",
    "\n",
    "Phi-1.5/2 is a more modern model trained for high performance on reasoning tasks.\n",
    "\n",
    "TinYLLaMA is a smaller model trained for edge devices, protyping etc.\n",
    "\n",
    "Pythia is slightly outdated, but it was trained on a more diverse vocabulary from web text and should do better for stylistic text generation like poetry. It was trained on english only text, not ideal for italian text generation.\n",
    "\n",
    "Zephyr was trained in english, but it's fairly good at text generation\n",
    "\n",
    "Yi is a more powerful model, trained on some italian partially. Training might be very slow\n",
    "\n",
    "Gepptetto is a model trained on italian text, but it's old and very outdated.\n",
    "\n",
    "-------------------------\n",
    "\n",
    "- Try with Zephyr to start --> it was very slow and could barely fit inside the RAM of the computer.\n",
    "\n",
    "- I decided to move to TinyLLaMA since it is a smaller model and easier to train on a laptop.\n",
    "\n"
   ],
   "id": "e0c131d59e70e74f"
  },
  {
   "cell_type": "code",
   "id": "initial_id",
   "metadata": {
    "collapsed": true,
    "ExecuteTime": {
     "end_time": "2025-04-26T15:46:30.864490Z",
     "start_time": "2025-04-26T15:46:30.801153Z"
    }
   },
   "source": [
    "# imports\n",
    "import torch\n",
    "import torch.nn as nn\n",
    "import torch.nn.functional as F\n",
    "import os\n",
    "import einops\n",
    "import math\n",
    "import numpy as np\n",
    "import matplotlib.pyplot as plt\n",
    "# Use MPS if available\n",
    "device = torch.device(\"mps\" if torch.backends.mps.is_available() else \"cpu\")\n",
    "\n",
    "\n",
    "from datasets import load_dataset\n",
    "from transformers import AutoTokenizer, AutoModelForCausalLM, TrainingArguments, Trainer, DataCollatorForLanguageModeling\n",
    "from peft import get_peft_model, LoraConfig, TaskType, PeftModel, PeftConfig"
   ],
   "outputs": [],
   "execution_count": 19
  },
  {
   "metadata": {
    "ExecuteTime": {
     "end_time": "2025-04-26T01:03:52.875473Z",
     "start_time": "2025-04-26T01:03:40.952553Z"
    }
   },
   "cell_type": "code",
   "source": [
    "from transformers import AutoModelForCausalLM, AutoTokenizer\n",
    "\n",
    "# using the tinyllama model\n",
    "model_id = \"TinyLlama/TinyLlama-1.1B-intermediate-step-1431k-3T\" #\"stabilityai/stablelm-2-zephyr-1_6b\"\n",
    "\n",
    "# Use the tokenizer for the model\n",
    "tokenizer = AutoTokenizer.from_pretrained(model_id)\n",
    "tokenizer.pad_token = tokenizer.eos_token # add eos_token (not present in the tinyllama tokenizer by default)\n",
    "model = AutoModelForCausalLM.from_pretrained(\n",
    "    model_id,\n",
    "    device_map={\"\": \"mps\"},\n",
    "    torch_dtype=\"float32\",  # mps does not support float16, bfloat16. i wish it did\n",
    "    trust_remote_code=True\n",
    ")\n"
   ],
   "id": "5f6b3216a6ca14b1",
   "outputs": [],
   "execution_count": 4
  },
  {
   "metadata": {
    "ExecuteTime": {
     "end_time": "2025-04-26T01:03:53.709398Z",
     "start_time": "2025-04-26T01:03:52.926966Z"
    }
   },
   "cell_type": "code",
   "source": [
    "# Prepare LoRA with PEFT\n",
    "from peft import get_peft_model, LoraConfig, TaskType\n",
    "\n",
    "# LoRA configuration\n",
    "peft_config = LoraConfig(\n",
    "    task_type=TaskType.CAUSAL_LM, # Language modeling\n",
    "    inference_mode=False, # set to True for inference, False for training\n",
    "    r=8, # Rank of LoRA matrices. Higher rank gives more capacity to adapt, but is slower and requires more computational resources\n",
    "    lora_alpha=16, # Scaling factor. Affects how much the LoRA weights \"influence\" the base model. Typically alpha = 2×r is a good default.\n",
    "    lora_dropout=0.1 # Dropout during training\n",
    ")\n",
    "\n",
    "# Apply LoRA adapters\n",
    "model = get_peft_model(model, peft_config)\n",
    "\n",
    "# check that the only trainable parameters are the LoRA ones\n",
    "for name, param in model.named_parameters():\n",
    "    if param.requires_grad:\n",
    "        print(\"Trainable:\", name)\n"
   ],
   "id": "7f3381d7c7a2226a",
   "outputs": [
    {
     "name": "stderr",
     "output_type": "stream",
     "text": [
      "/opt/anaconda3/lib/python3.12/site-packages/bitsandbytes/cextension.py:34: UserWarning: The installed version of bitsandbytes was compiled without GPU support. 8-bit optimizers, 8-bit multiplication, and GPU quantization are unavailable.\n",
      "  warn(\"The installed version of bitsandbytes was compiled without GPU support. \"\n"
     ]
    },
    {
     "name": "stdout",
     "output_type": "stream",
     "text": [
      "'NoneType' object has no attribute 'cadam32bit_grad_fp32'\n",
      "Trainable: base_model.model.model.layers.0.self_attn.q_proj.lora_A.default.weight\n",
      "Trainable: base_model.model.model.layers.0.self_attn.q_proj.lora_B.default.weight\n",
      "Trainable: base_model.model.model.layers.0.self_attn.v_proj.lora_A.default.weight\n",
      "Trainable: base_model.model.model.layers.0.self_attn.v_proj.lora_B.default.weight\n",
      "Trainable: base_model.model.model.layers.1.self_attn.q_proj.lora_A.default.weight\n",
      "Trainable: base_model.model.model.layers.1.self_attn.q_proj.lora_B.default.weight\n",
      "Trainable: base_model.model.model.layers.1.self_attn.v_proj.lora_A.default.weight\n",
      "Trainable: base_model.model.model.layers.1.self_attn.v_proj.lora_B.default.weight\n",
      "Trainable: base_model.model.model.layers.2.self_attn.q_proj.lora_A.default.weight\n",
      "Trainable: base_model.model.model.layers.2.self_attn.q_proj.lora_B.default.weight\n",
      "Trainable: base_model.model.model.layers.2.self_attn.v_proj.lora_A.default.weight\n",
      "Trainable: base_model.model.model.layers.2.self_attn.v_proj.lora_B.default.weight\n",
      "Trainable: base_model.model.model.layers.3.self_attn.q_proj.lora_A.default.weight\n",
      "Trainable: base_model.model.model.layers.3.self_attn.q_proj.lora_B.default.weight\n",
      "Trainable: base_model.model.model.layers.3.self_attn.v_proj.lora_A.default.weight\n",
      "Trainable: base_model.model.model.layers.3.self_attn.v_proj.lora_B.default.weight\n",
      "Trainable: base_model.model.model.layers.4.self_attn.q_proj.lora_A.default.weight\n",
      "Trainable: base_model.model.model.layers.4.self_attn.q_proj.lora_B.default.weight\n",
      "Trainable: base_model.model.model.layers.4.self_attn.v_proj.lora_A.default.weight\n",
      "Trainable: base_model.model.model.layers.4.self_attn.v_proj.lora_B.default.weight\n",
      "Trainable: base_model.model.model.layers.5.self_attn.q_proj.lora_A.default.weight\n",
      "Trainable: base_model.model.model.layers.5.self_attn.q_proj.lora_B.default.weight\n",
      "Trainable: base_model.model.model.layers.5.self_attn.v_proj.lora_A.default.weight\n",
      "Trainable: base_model.model.model.layers.5.self_attn.v_proj.lora_B.default.weight\n",
      "Trainable: base_model.model.model.layers.6.self_attn.q_proj.lora_A.default.weight\n",
      "Trainable: base_model.model.model.layers.6.self_attn.q_proj.lora_B.default.weight\n",
      "Trainable: base_model.model.model.layers.6.self_attn.v_proj.lora_A.default.weight\n",
      "Trainable: base_model.model.model.layers.6.self_attn.v_proj.lora_B.default.weight\n",
      "Trainable: base_model.model.model.layers.7.self_attn.q_proj.lora_A.default.weight\n",
      "Trainable: base_model.model.model.layers.7.self_attn.q_proj.lora_B.default.weight\n",
      "Trainable: base_model.model.model.layers.7.self_attn.v_proj.lora_A.default.weight\n",
      "Trainable: base_model.model.model.layers.7.self_attn.v_proj.lora_B.default.weight\n",
      "Trainable: base_model.model.model.layers.8.self_attn.q_proj.lora_A.default.weight\n",
      "Trainable: base_model.model.model.layers.8.self_attn.q_proj.lora_B.default.weight\n",
      "Trainable: base_model.model.model.layers.8.self_attn.v_proj.lora_A.default.weight\n",
      "Trainable: base_model.model.model.layers.8.self_attn.v_proj.lora_B.default.weight\n",
      "Trainable: base_model.model.model.layers.9.self_attn.q_proj.lora_A.default.weight\n",
      "Trainable: base_model.model.model.layers.9.self_attn.q_proj.lora_B.default.weight\n",
      "Trainable: base_model.model.model.layers.9.self_attn.v_proj.lora_A.default.weight\n",
      "Trainable: base_model.model.model.layers.9.self_attn.v_proj.lora_B.default.weight\n",
      "Trainable: base_model.model.model.layers.10.self_attn.q_proj.lora_A.default.weight\n",
      "Trainable: base_model.model.model.layers.10.self_attn.q_proj.lora_B.default.weight\n",
      "Trainable: base_model.model.model.layers.10.self_attn.v_proj.lora_A.default.weight\n",
      "Trainable: base_model.model.model.layers.10.self_attn.v_proj.lora_B.default.weight\n",
      "Trainable: base_model.model.model.layers.11.self_attn.q_proj.lora_A.default.weight\n",
      "Trainable: base_model.model.model.layers.11.self_attn.q_proj.lora_B.default.weight\n",
      "Trainable: base_model.model.model.layers.11.self_attn.v_proj.lora_A.default.weight\n",
      "Trainable: base_model.model.model.layers.11.self_attn.v_proj.lora_B.default.weight\n",
      "Trainable: base_model.model.model.layers.12.self_attn.q_proj.lora_A.default.weight\n",
      "Trainable: base_model.model.model.layers.12.self_attn.q_proj.lora_B.default.weight\n",
      "Trainable: base_model.model.model.layers.12.self_attn.v_proj.lora_A.default.weight\n",
      "Trainable: base_model.model.model.layers.12.self_attn.v_proj.lora_B.default.weight\n",
      "Trainable: base_model.model.model.layers.13.self_attn.q_proj.lora_A.default.weight\n",
      "Trainable: base_model.model.model.layers.13.self_attn.q_proj.lora_B.default.weight\n",
      "Trainable: base_model.model.model.layers.13.self_attn.v_proj.lora_A.default.weight\n",
      "Trainable: base_model.model.model.layers.13.self_attn.v_proj.lora_B.default.weight\n",
      "Trainable: base_model.model.model.layers.14.self_attn.q_proj.lora_A.default.weight\n",
      "Trainable: base_model.model.model.layers.14.self_attn.q_proj.lora_B.default.weight\n",
      "Trainable: base_model.model.model.layers.14.self_attn.v_proj.lora_A.default.weight\n",
      "Trainable: base_model.model.model.layers.14.self_attn.v_proj.lora_B.default.weight\n",
      "Trainable: base_model.model.model.layers.15.self_attn.q_proj.lora_A.default.weight\n",
      "Trainable: base_model.model.model.layers.15.self_attn.q_proj.lora_B.default.weight\n",
      "Trainable: base_model.model.model.layers.15.self_attn.v_proj.lora_A.default.weight\n",
      "Trainable: base_model.model.model.layers.15.self_attn.v_proj.lora_B.default.weight\n",
      "Trainable: base_model.model.model.layers.16.self_attn.q_proj.lora_A.default.weight\n",
      "Trainable: base_model.model.model.layers.16.self_attn.q_proj.lora_B.default.weight\n",
      "Trainable: base_model.model.model.layers.16.self_attn.v_proj.lora_A.default.weight\n",
      "Trainable: base_model.model.model.layers.16.self_attn.v_proj.lora_B.default.weight\n",
      "Trainable: base_model.model.model.layers.17.self_attn.q_proj.lora_A.default.weight\n",
      "Trainable: base_model.model.model.layers.17.self_attn.q_proj.lora_B.default.weight\n",
      "Trainable: base_model.model.model.layers.17.self_attn.v_proj.lora_A.default.weight\n",
      "Trainable: base_model.model.model.layers.17.self_attn.v_proj.lora_B.default.weight\n",
      "Trainable: base_model.model.model.layers.18.self_attn.q_proj.lora_A.default.weight\n",
      "Trainable: base_model.model.model.layers.18.self_attn.q_proj.lora_B.default.weight\n",
      "Trainable: base_model.model.model.layers.18.self_attn.v_proj.lora_A.default.weight\n",
      "Trainable: base_model.model.model.layers.18.self_attn.v_proj.lora_B.default.weight\n",
      "Trainable: base_model.model.model.layers.19.self_attn.q_proj.lora_A.default.weight\n",
      "Trainable: base_model.model.model.layers.19.self_attn.q_proj.lora_B.default.weight\n",
      "Trainable: base_model.model.model.layers.19.self_attn.v_proj.lora_A.default.weight\n",
      "Trainable: base_model.model.model.layers.19.self_attn.v_proj.lora_B.default.weight\n",
      "Trainable: base_model.model.model.layers.20.self_attn.q_proj.lora_A.default.weight\n",
      "Trainable: base_model.model.model.layers.20.self_attn.q_proj.lora_B.default.weight\n",
      "Trainable: base_model.model.model.layers.20.self_attn.v_proj.lora_A.default.weight\n",
      "Trainable: base_model.model.model.layers.20.self_attn.v_proj.lora_B.default.weight\n",
      "Trainable: base_model.model.model.layers.21.self_attn.q_proj.lora_A.default.weight\n",
      "Trainable: base_model.model.model.layers.21.self_attn.q_proj.lora_B.default.weight\n",
      "Trainable: base_model.model.model.layers.21.self_attn.v_proj.lora_A.default.weight\n",
      "Trainable: base_model.model.model.layers.21.self_attn.v_proj.lora_B.default.weight\n"
     ]
    }
   ],
   "execution_count": 5
  },
  {
   "metadata": {
    "ExecuteTime": {
     "end_time": "2025-04-26T01:03:59.969164Z",
     "start_time": "2025-04-26T01:03:59.962447Z"
    }
   },
   "cell_type": "code",
   "source": [
    "## create the corpus of text used for training\n",
    "read_data = False\n",
    "if read_data: # already have the corpus preprocessed\n",
    "    with open('corpus_cleaned.txt', 'r', encoding='utf-8') as f:\n",
    "        corpus = f.read()\n",
    "else:\n",
    "    # import the text data\n",
    "    os.chdir('data')\n",
    "\n",
    "    corpus = ''\n",
    "    # read the texts\n",
    "    for file in ['cavalcanti_poems_cleaned.txt','Dante_Divina_Commedia_final_cleaned.txt','il_canzoniere_petrarca_cleaned.txt']:\n",
    "        if file.endswith(\".txt\"):\n",
    "            text = open(file, 'r', encoding='utf-8').read()\n",
    "            corpus += text\n",
    "            # print(text[:100])\n",
    "\n",
    "    os.chdir('..') # go back 1 lavel higher"
   ],
   "id": "68dc904d397c9f0c",
   "outputs": [],
   "execution_count": 6
  },
  {
   "metadata": {
    "ExecuteTime": {
     "end_time": "2025-04-26T01:04:02.506734Z",
     "start_time": "2025-04-26T01:04:02.502846Z"
    }
   },
   "cell_type": "code",
   "source": [
    "from pathlib import Path\n",
    "import json\n",
    "\n",
    "# Combine all into one list of canto strings (feeding the model with a nicely formatted data should help it learn better)\n",
    "def extract_cantos(text):\n",
    "    cantos = []\n",
    "    lines = text.strip().splitlines()\n",
    "    buffer = []\n",
    "    in_canto = False\n",
    "    for line in lines:\n",
    "        if line.strip() == \"<canto>\":\n",
    "            buffer = []\n",
    "            in_canto = True\n",
    "        elif line.strip() == \"</canto>\":\n",
    "            if buffer:\n",
    "                cantos.append(\"\\n\".join(buffer))\n",
    "            in_canto = False\n",
    "        elif in_canto:\n",
    "            buffer.append(line.strip())\n",
    "    return cantos\n",
    "\n",
    "need_to_generate_data = False\n",
    "if need_to_generate_data:\n",
    "    all_cantos = extract_cantos(corpus)\n",
    "    # Save as JSONL\n",
    "    jsonl_path = \"italian_poetry_dataset.jsonl\"\n",
    "    with open(jsonl_path, \"w\", encoding=\"utf-8\") as f:\n",
    "        for canto in all_cantos:\n",
    "            json.dump({\"text\": f\"<canto>\\n{canto}\\n</canto>\"}, f, ensure_ascii=False)\n",
    "            f.write(\"\\n\")\n"
   ],
   "id": "ffb22d6e314118d",
   "outputs": [],
   "execution_count": 7
  },
  {
   "metadata": {
    "ExecuteTime": {
     "end_time": "2025-04-26T01:04:05.544623Z",
     "start_time": "2025-04-26T01:04:05.045591Z"
    }
   },
   "cell_type": "code",
   "outputs": [
    {
     "data": {
      "text/plain": [
       "Map:   0%|          | 0/476 [00:00<?, ? examples/s]"
      ],
      "application/vnd.jupyter.widget-view+json": {
       "version_major": 2,
       "version_minor": 0,
       "model_id": "91ee12fd9360428b96b47e9db1cf20ff"
      }
     },
     "metadata": {},
     "output_type": "display_data"
    },
    {
     "name": "stdout",
     "output_type": "stream",
     "text": [
      "# of training samples: 476\n"
     ]
    }
   ],
   "execution_count": 8,
   "source": [
    "## create the dataset\n",
    "from datasets import load_dataset\n",
    "\n",
    "# === Load dataset ===\n",
    "dataset = load_dataset(\"json\", data_files='italian_poetry_dataset.jsonl', split=\"train\")\n",
    "\n",
    "# === Tokenize the dataset ===\n",
    "def tokenize(batch):\n",
    "    return tokenizer(batch[\"text\"], padding=\"max_length\", truncation=True, max_length=128) # higher max len could be helpful to improve the ability of the model to maintain coherence over longer context lengths, but it also requires more memory (which is a bottleneck given I am using a laptop)\n",
    "\n",
    "tokenized_ds = dataset.map(tokenize, batched=True, remove_columns=[\"text\"])\n",
    "\n",
    "# === Define data collator ===\n",
    "data_collator = DataCollatorForLanguageModeling(tokenizer=tokenizer, mlm=False)\n",
    "\n",
    "# === Training args ===\n",
    "training_args = TrainingArguments(\n",
    "    output_dir=\"./tinyllama-poetry-lora\",\n",
    "    per_device_train_batch_size=1,\n",
    "    num_train_epochs=5,\n",
    "    gradient_accumulation_steps=4,\n",
    "    eval_strategy =\"no\",\n",
    "    save_steps=100,\n",
    "    logging_steps=30,\n",
    "    fp16=False,\n",
    "    optim=\"adamw_torch\",\n",
    "    report_to=\"none\",\n",
    "    overwrite_output_dir=True\n",
    ")\n",
    "\n",
    "print(f\"# of training samples: {len(tokenized_ds)}\")\n"
   ],
   "id": "c10ed6645cdbf58c"
  },
  {
   "metadata": {
    "ExecuteTime": {
     "end_time": "2025-04-26T15:42:41.139945Z",
     "start_time": "2025-04-26T15:42:00.361371Z"
    }
   },
   "cell_type": "code",
   "source": [
    "## test time of training 1 batch\n",
    "import time\n",
    "# Set model to train mode\n",
    "model.train()\n",
    "\n",
    "# Grab a single example from your tokenized dataset\n",
    "example = tokenized_ds[0]\n",
    "input_ids = torch.tensor(example[\"input_ids\"]).unsqueeze(0).to(\"mps\")  # shape: [1, seq_len]\n",
    "attention_mask = torch.tensor(example[\"attention_mask\"]).unsqueeze(0).to(\"mps\")\n",
    "labels = input_ids.clone()\n",
    "\n",
    "# Warm-up pass (optional but good for MPS)\n",
    "for _ in range(2):\n",
    "    _ = model(input_ids=input_ids, attention_mask=attention_mask, labels=labels)\n",
    "\n",
    "# Benchmark\n",
    "start = time.time()\n",
    "output = model(input_ids=input_ids, attention_mask=attention_mask, labels=labels)\n",
    "loss = output.loss\n",
    "loss.backward()\n",
    "end = time.time()\n",
    "\n",
    "print(f\"⏱️ One batch (forward + backward) took: {end - start:.2f} seconds\")\n"
   ],
   "id": "b1ead28b284e49a8",
   "outputs": [
    {
     "name": "stdout",
     "output_type": "stream",
     "text": [
      "⏱️ One batch (forward + backward) took: 13.30 seconds\n"
     ]
    }
   ],
   "execution_count": 18
  },
  {
   "metadata": {},
   "cell_type": "markdown",
   "source": "The duration of one batch is about 0.5 seconds on my macbook when things go well. Depending on what else is running, time can vary a lot.",
   "id": "507ebd3023b61596"
  },
  {
   "metadata": {
    "ExecuteTime": {
     "end_time": "2025-04-26T01:15:22.231810Z",
     "start_time": "2025-04-26T01:04:22.610784Z"
    }
   },
   "cell_type": "code",
   "source": [
    "# === Train ===\n",
    "trainer = Trainer(\n",
    "    model=model,\n",
    "    args=training_args,\n",
    "    train_dataset=tokenized_ds,\n",
    "    data_collator=data_collator,\n",
    "    tokenizer=tokenizer\n",
    ")\n",
    "\n",
    "prev_checkpoint = None #\"./zephyr-poetry-lora/checkpoint-357\"\n",
    "if prev_checkpoint:\n",
    "    trainer.train(resume_from_checkpoint=prev_checkpoint)\n",
    "else:\n",
    "    trainer.train()"
   ],
   "id": "aacf62e97a03e339",
   "outputs": [
    {
     "name": "stderr",
     "output_type": "stream",
     "text": [
      "/var/folders/4g/bd8qcn0d0w33my4q6djs6csw0000gn/T/ipykernel_16928/828098516.py:2: FutureWarning: `tokenizer` is deprecated and will be removed in version 5.0.0 for `Trainer.__init__`. Use `processing_class` instead.\n",
      "  trainer = Trainer(\n",
      "No label_names provided for model class `PeftModelForCausalLM`. Since `PeftModel` hides base models input arguments, if label_names is not given, label_names can't be set automatically within `Trainer`. Note that empty label_names list will be used instead.\n"
     ]
    },
    {
     "data": {
      "text/plain": [
       "<IPython.core.display.HTML object>"
      ],
      "text/html": [
       "\n",
       "    <div>\n",
       "      \n",
       "      <progress value='595' max='595' style='width:300px; height:20px; vertical-align: middle;'></progress>\n",
       "      [595/595 10:54, Epoch 5/5]\n",
       "    </div>\n",
       "    <table border=\"1\" class=\"dataframe\">\n",
       "  <thead>\n",
       " <tr style=\"text-align: left;\">\n",
       "      <th>Step</th>\n",
       "      <th>Training Loss</th>\n",
       "    </tr>\n",
       "  </thead>\n",
       "  <tbody>\n",
       "    <tr>\n",
       "      <td>30</td>\n",
       "      <td>4.079700</td>\n",
       "    </tr>\n",
       "    <tr>\n",
       "      <td>60</td>\n",
       "      <td>3.957900</td>\n",
       "    </tr>\n",
       "    <tr>\n",
       "      <td>90</td>\n",
       "      <td>3.801200</td>\n",
       "    </tr>\n",
       "    <tr>\n",
       "      <td>120</td>\n",
       "      <td>3.728300</td>\n",
       "    </tr>\n",
       "    <tr>\n",
       "      <td>150</td>\n",
       "      <td>3.693500</td>\n",
       "    </tr>\n",
       "    <tr>\n",
       "      <td>180</td>\n",
       "      <td>3.702300</td>\n",
       "    </tr>\n",
       "    <tr>\n",
       "      <td>210</td>\n",
       "      <td>3.633100</td>\n",
       "    </tr>\n",
       "    <tr>\n",
       "      <td>240</td>\n",
       "      <td>3.627900</td>\n",
       "    </tr>\n",
       "    <tr>\n",
       "      <td>270</td>\n",
       "      <td>3.593000</td>\n",
       "    </tr>\n",
       "    <tr>\n",
       "      <td>300</td>\n",
       "      <td>3.618300</td>\n",
       "    </tr>\n",
       "    <tr>\n",
       "      <td>330</td>\n",
       "      <td>3.628700</td>\n",
       "    </tr>\n",
       "    <tr>\n",
       "      <td>360</td>\n",
       "      <td>3.582800</td>\n",
       "    </tr>\n",
       "    <tr>\n",
       "      <td>390</td>\n",
       "      <td>3.606200</td>\n",
       "    </tr>\n",
       "    <tr>\n",
       "      <td>420</td>\n",
       "      <td>3.575100</td>\n",
       "    </tr>\n",
       "    <tr>\n",
       "      <td>450</td>\n",
       "      <td>3.557900</td>\n",
       "    </tr>\n",
       "    <tr>\n",
       "      <td>480</td>\n",
       "      <td>3.579500</td>\n",
       "    </tr>\n",
       "    <tr>\n",
       "      <td>510</td>\n",
       "      <td>3.553800</td>\n",
       "    </tr>\n",
       "    <tr>\n",
       "      <td>540</td>\n",
       "      <td>3.561500</td>\n",
       "    </tr>\n",
       "    <tr>\n",
       "      <td>570</td>\n",
       "      <td>3.584300</td>\n",
       "    </tr>\n",
       "  </tbody>\n",
       "</table><p>"
      ]
     },
     "metadata": {},
     "output_type": "display_data"
    }
   ],
   "execution_count": 9
  },
  {
   "metadata": {
    "ExecuteTime": {
     "end_time": "2025-04-26T16:08:27.791625Z",
     "start_time": "2025-04-26T16:08:27.426066Z"
    }
   },
   "cell_type": "code",
   "source": [
    "## plot the loss vs step\n",
    "import matplotlib.pyplot as plt\n",
    "steps = [30, 120, 210, 300, 390, 480, 570]\n",
    "losses = [4.08, 3.73, 3.63, 3.62, 3.61, 3.58, 3.58]\n",
    "\n",
    "plt.semilogy(steps,losses)\n",
    "plt.show()"
   ],
   "id": "f766aca80eb49885",
   "outputs": [
    {
     "data": {
      "text/plain": [
       "<Figure size 640x480 with 1 Axes>"
      ],
      "image/png": "[encoded data removed]"
     },
     "metadata": {},
     "output_type": "display_data"
    }
   ],
   "execution_count": 22
  },
  {
   "metadata": {
    "ExecuteTime": {
     "end_time": "2025-04-26T03:32:08.127401Z",
     "start_time": "2025-04-26T03:31:24.750876Z"
    }
   },
   "cell_type": "code",
   "source": [
    "## testing the model\n",
    "# Load base model and tokenizer\n",
    "model_id = \"TinyLlama/TinyLlama-1.1B-intermediate-step-1431k-3T\" #\"stabilityai/stablelm-2-zephyr-1_6b\"\n",
    "tokenizer = AutoTokenizer.from_pretrained(model_id)\n",
    "base_model = AutoModelForCausalLM.from_pretrained(\n",
    "    model_id,\n",
    "    device_map={\"\": \"mps\"},\n",
    "    torch_dtype=torch.float32,\n",
    "    trust_remote_code=True\n",
    ")\n",
    "\n",
    "# Load PEFT configuration and adapter\n",
    "peft_model = PeftModel.from_pretrained(base_model, \"./zephyr-poetry-lora/checkpoint-595\")\n",
    "peft_model.eval()\n"
   ],
   "id": "24a3dd0b11e77189",
   "outputs": [
    {
     "data": {
      "text/plain": [
       "PeftModelForCausalLM(\n",
       "  (base_model): LoraModel(\n",
       "    (model): LlamaForCausalLM(\n",
       "      (model): LlamaModel(\n",
       "        (embed_tokens): Embedding(32000, 2048)\n",
       "        (layers): ModuleList(\n",
       "          (0-21): 22 x LlamaDecoderLayer(\n",
       "            (self_attn): LlamaAttention(\n",
       "              (q_proj): lora.Linear(\n",
       "                (base_layer): Linear(in_features=2048, out_features=2048, bias=False)\n",
       "                (lora_dropout): ModuleDict(\n",
       "                  (default): Dropout(p=0.1, inplace=False)\n",
       "                )\n",
       "                (lora_A): ModuleDict(\n",
       "                  (default): Linear(in_features=2048, out_features=8, bias=False)\n",
       "                )\n",
       "                (lora_B): ModuleDict(\n",
       "                  (default): Linear(in_features=8, out_features=2048, bias=False)\n",
       "                )\n",
       "                (lora_embedding_A): ParameterDict()\n",
       "                (lora_embedding_B): ParameterDict()\n",
       "                (lora_magnitude_vector): ModuleDict()\n",
       "              )\n",
       "              (k_proj): Linear(in_features=2048, out_features=256, bias=False)\n",
       "              (v_proj): lora.Linear(\n",
       "                (base_layer): Linear(in_features=2048, out_features=256, bias=False)\n",
       "                (lora_dropout): ModuleDict(\n",
       "                  (default): Dropout(p=0.1, inplace=False)\n",
       "                )\n",
       "                (lora_A): ModuleDict(\n",
       "                  (default): Linear(in_features=2048, out_features=8, bias=False)\n",
       "                )\n",
       "                (lora_B): ModuleDict(\n",
       "                  (default): Linear(in_features=8, out_features=256, bias=False)\n",
       "                )\n",
       "                (lora_embedding_A): ParameterDict()\n",
       "                (lora_embedding_B): ParameterDict()\n",
       "                (lora_magnitude_vector): ModuleDict()\n",
       "              )\n",
       "              (o_proj): Linear(in_features=2048, out_features=2048, bias=False)\n",
       "            )\n",
       "            (mlp): LlamaMLP(\n",
       "              (gate_proj): Linear(in_features=2048, out_features=5632, bias=False)\n",
       "              (up_proj): Linear(in_features=2048, out_features=5632, bias=False)\n",
       "              (down_proj): Linear(in_features=5632, out_features=2048, bias=False)\n",
       "              (act_fn): SiLU()\n",
       "            )\n",
       "            (input_layernorm): LlamaRMSNorm((2048,), eps=1e-05)\n",
       "            (post_attention_layernorm): LlamaRMSNorm((2048,), eps=1e-05)\n",
       "          )\n",
       "        )\n",
       "        (norm): LlamaRMSNorm((2048,), eps=1e-05)\n",
       "        (rotary_emb): LlamaRotaryEmbedding()\n",
       "      )\n",
       "      (lm_head): Linear(in_features=2048, out_features=32000, bias=False)\n",
       "    )\n",
       "  )\n",
       ")"
      ]
     },
     "execution_count": 10,
     "metadata": {},
     "output_type": "execute_result"
    }
   ],
   "execution_count": 10
  },
  {
   "metadata": {
    "ExecuteTime": {
     "end_time": "2025-04-26T15:33:16.719465Z",
     "start_time": "2025-04-26T15:33:16.619576Z"
    }
   },
   "cell_type": "code",
   "source": [
    "# custom stopping\n",
    "from transformers import StoppingCriteria, StoppingCriteriaList\n",
    "\n",
    "# === Define custom stopping rule\n",
    "class StopOnCantoEnd(StoppingCriteria):\n",
    "    def __init__(self, tokenizer, stop_sequence=\"</canto>\"):\n",
    "        self.tokenizer = tokenizer\n",
    "        self.stop_ids = tokenizer(stop_sequence, add_special_tokens=False).input_ids\n",
    "\n",
    "    def __call__(self, input_ids, scores, **kwargs):\n",
    "        # Check if the last tokens match stop_sequence\n",
    "        if input_ids.shape[1] < len(self.stop_ids):\n",
    "            return False\n",
    "        return (input_ids[0, -len(self.stop_ids):] == torch.tensor(self.stop_ids, device=input_ids.device)).all()\n"
   ],
   "id": "f1201a3d4307d2ef",
   "outputs": [],
   "execution_count": 14
  },
  {
   "metadata": {
    "ExecuteTime": {
     "end_time": "2025-04-26T15:39:08.681243Z",
     "start_time": "2025-04-26T15:38:08.979806Z"
    }
   },
   "cell_type": "code",
   "source": [
    "# === Setup generation\n",
    "prompt = \"Inizia il canto:\\n<canto>\\nNel mezzo del cammin di nostra vita\\n\"\n",
    "\n",
    "inputs = tokenizer(prompt, return_tensors=\"pt\").to(\"mps\")\n",
    "\n",
    "# Attach stopping criteria\n",
    "stopping_criteria = StoppingCriteriaList([\n",
    "    StopOnCantoEnd(tokenizer)\n",
    "])\n",
    "\n",
    "# === Generate!\n",
    "with torch.no_grad():\n",
    "    outputs = model.generate(\n",
    "        **inputs,\n",
    "        max_new_tokens=500,  # Set a safety limit in case model goes crazy\n",
    "        temperature=1.0,\n",
    "        top_p=0.95,\n",
    "        do_sample=True,\n",
    "        stopping_criteria=stopping_criteria\n",
    "    )\n",
    "\n",
    "# === Decode and print\n",
    "generated = tokenizer.decode(outputs[0], skip_special_tokens=True)\n",
    "print(\"📝 Generated Canto:\\n\")\n",
    "print(generated)"
   ],
   "id": "6a420f08c9beeda6",
   "outputs": [
    {
     "name": "stdout",
     "output_type": "stream",
     "text": [
      "📝 Generated Canto:\n",
      "\n",
      "Inizia il canto:\n",
      "<canto>\n",
      "Nel mezzo del cammin di nostra vita\n",
      "mi sono fermata per dire\n",
      "che il più triste cor amando,\n",
      "che la terra vagheggia,\n",
      "quale mai in sé o in altri\n",
      "sogna con dolce vista\n",
      "ch'erel che la vita si farla\n",
      "m'arrende et inancio\n",
      "per voler morir nella tua giù?\n",
      "O meno, ché di noi nessuno son\n",
      "che non si vada avanti in terra,\n",
      "ch'ascolta, et la vita che fegleggia,\n",
      "ch'alzata in alto farli riemper\n",
      "al di là per cui amà\n",
      "quello altr'altro et ne' sentir\n",
      "onde fie ch'ad esser triste\n",
      "ch'erel che vivi et inancio\n",
      "che si dever in vita avrebbe?\n",
      "Non tanto quanto d'ogni gusto\n",
      "ch'e' per sempre e' 'gni, per\n",
      "di noi s'ascolta, che son\n",
      "o mal avendo, o sano altr'altro.\n",
      "Nell'altra gesto et nell'altro mio\n",
      "alto s'intorno, et s'invecchio\n",
      "d'amor, et di paure, et di sciolte\n",
      "et d'alt'alt'alt'alt'alt'alt'alt'altro;\n",
      "ché tesserai et a tua luce\n",
      "d'et non di me, che noi s'innamor\n",
      "per un'onesta lagrima, et la roba\n",
      "che i nostri dolci sensi desider,\n",
      "tanto et sempre ch'e' per sempre\n",
      "et inancio.\n",
      "Chi, per il vostro cor, noi si ama,\n",
      "per 'l tuo pensoso, per 'l tuo gusto,\n",
      "quando 'l vostro amore e' perverse?\n",
      "Mira a tutt'alt'alt'alt'alt'alt'alt'altro,\n",
      "et chi la tua vostra paura penso\n",
      "sint chiaro et sempre in te.\n",
      "Che d'un pensiero d'erarvevole\n",
      "tanta gente noi ne' luoghi et ne' soli\n",
      "m\n"
     ]
    }
   ],
   "execution_count": 16
  },
  {
   "metadata": {},
   "cell_type": "markdown",
   "source": "Not too bad. The text definitely sounds like old italian, and the rough style was transferred. More complex patterns (like the rhyme scheme, keeping things into 'terzina's or the general length of an individual canto) are still missing, perhas using a model with more capacity could help.",
   "id": "e55220a6aaaabafe"
  },
  {
   "metadata": {
    "ExecuteTime": {
     "end_time": "2025-04-26T16:00:06.465048Z",
     "start_time": "2025-04-26T15:59:06.639835Z"
    }
   },
   "cell_type": "code",
   "source": [
    "### For comparison, the tinyllama without fine tuning would do this:\n",
    "# === Load the original TinyLlama model\n",
    "model_id = \"TinyLlama/TinyLlama-1.1B-intermediate-step-1431k-3T\"\n",
    "\n",
    "tokenizer = AutoTokenizer.from_pretrained(model_id)\n",
    "model = AutoModelForCausalLM.from_pretrained(\n",
    "    model_id,\n",
    "    device_map={\"\": \"mps\"},\n",
    "    torch_dtype=torch.float32,\n",
    "    trust_remote_code=True\n",
    ")\n",
    "model.eval()\n",
    "\n",
    "# === Prepare the same prompt\n",
    "prompt = \"Inizia il canto:\\n<canto>\\nNel mezzo del cammin di nostra vita\\n\"\n",
    "\n",
    "inputs = tokenizer(prompt, return_tensors=\"pt\").to(\"mps\")\n",
    "\n",
    "# === Generate without LoRA\n",
    "with torch.no_grad():\n",
    "    outputs = model.generate(\n",
    "        **inputs,\n",
    "        max_new_tokens=300,\n",
    "        temperature=1,\n",
    "        top_p=0.95,\n",
    "        do_sample=True\n",
    "    )\n",
    "\n",
    "generated = tokenizer.decode(outputs[0], skip_special_tokens=True)\n",
    "print(\"📝 Base TinyLlama Output (No LoRA):\\n\")\n",
    "print(generated)"
   ],
   "id": "972439f98d0748c5",
   "outputs": [
    {
     "name": "stdout",
     "output_type": "stream",
     "text": [
      "📝 Base TinyLlama Output (No LoRA):\n",
      "\n",
      "Inizia il canto:\n",
      "<canto>\n",
      "Nel mezzo del cammin di nostra vita\n",
      "Mi prospetto nella penna incorniciata\n",
      "Di un grande ciondolo di lusso\n",
      "Da te, lussuriosa eterne stanza,\n",
      "Vuoi portarmi a fondo nell'imbarazzo?\n",
      "\n",
      "<re>\n",
      "Mai avrà la tua voce mai sonoramente\n",
      "Giunsi a me lanciata al suono d'oro.\n",
      "Non vi ha in lusso mai avuto l'occhio\n",
      "A tollerare il malgoverno del mondo?\n",
      "Se è possibile nella mia sottomissione\n",
      "Di lusinghe eterne stanzie\n",
      "Da te come un pezzo di scrittura legna il mio\n",
      "Nuovo capolavoro, pungente e onesta donna,\n",
      "Non sevi di questo che te mi piacere,\n",
      "Il coro, il suono d'alcune vocali\n",
      "\n",
      "Sui mille angeli da cui ti esce un'alba\n",
      "Sonore e in pace e in silenzio lontana\n",
      "M'avete portato a fondo in te,\n",
      "Come nell'ultimo silenzio, il sole,\n",
      "In terra eterna e in cielo\n",
      "Di parole l'oracolo che stanno per dirmi:\n",
      "\n",
      "\n",
      "\n",
      "<re>\n",
      "Sono la verità in te, che\n"
     ]
    }
   ],
   "execution_count": 20
  },
  {
   "metadata": {},
   "cell_type": "markdown",
   "source": [
    "The default tinyllama sounds like modern italian, it does not use any of the mannerisms that you would see in old italian poetry. It also capitalizes the first letter of each line, even when it should not. The rhyme scheme is also missing.\n",
    "We can see that the LoRA helped infuse some of the poetic style into the model. It's still not perfect, but it's a big step forward."
   ],
   "id": "3e4a4f0510c1c044"
  },
  {
   "metadata": {},
   "cell_type": "code",
   "outputs": [],
   "execution_count": null,
   "source": "",
   "id": "45b7531424d00111"
  }
 ],
 "metadata": {
  "kernelspec": {
   "display_name": "Python 3",
   "language": "python",
   "name": "python3"
  },
  "language_info": {
   "codemirror_mode": {
    "name": "ipython",
    "version": 2
   },
   "file_extension": ".py",
   "mimetype": "text/x-python",
   "name": "python",
   "nbconvert_exporter": "python",
   "pygments_lexer": "ipython2",
   "version": "2.7.6"
  }
 },
 "nbformat": 4,
 "nbformat_minor": 5
}
